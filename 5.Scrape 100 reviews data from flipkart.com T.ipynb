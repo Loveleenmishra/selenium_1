{
 "cells": [
  {
   "cell_type": "markdown",
   "id": "8bd15522",
   "metadata": {},
   "source": [
    "Scrape 100 reviews data from flipkart.com for iphone11 phone. You have to go the link:\n",
    "https://www.flipkart.com/apple-iphone-11-black-64-gb/productreviews/itm4e5041ba101fd?pid=MOBFWQ6BXGJCEYNY&lid=LSTMOBFWQ6BXGJCEYNYZXSHRJ&market\n",
    "place=FLIPKART"
   ]
  },
  {
   "cell_type": "code",
   "execution_count": 1,
   "id": "780f3e66",
   "metadata": {},
   "outputs": [
    {
     "name": "stdout",
     "output_type": "stream",
     "text": [
      "Requirement already satisfied: selenium in c:\\users\\admin\\anaconda3\\lib\\site-packages (4.15.2)\n",
      "Requirement already satisfied: trio~=0.17 in c:\\users\\admin\\anaconda3\\lib\\site-packages (from selenium) (0.23.0)\n",
      "Requirement already satisfied: urllib3[socks]<3,>=1.26 in c:\\users\\admin\\anaconda3\\lib\\site-packages (from selenium) (1.26.14)\n",
      "Requirement already satisfied: certifi>=2021.10.8 in c:\\users\\admin\\anaconda3\\lib\\site-packages (from selenium) (2022.12.7)\n",
      "Requirement already satisfied: trio-websocket~=0.9 in c:\\users\\admin\\anaconda3\\lib\\site-packages (from selenium) (0.11.1)\n",
      "Requirement already satisfied: idna in c:\\users\\admin\\anaconda3\\lib\\site-packages (from trio~=0.17->selenium) (3.4)\n",
      "Requirement already satisfied: outcome in c:\\users\\admin\\anaconda3\\lib\\site-packages (from trio~=0.17->selenium) (1.3.0.post0)\n",
      "Requirement already satisfied: exceptiongroup>=1.0.0rc9 in c:\\users\\admin\\anaconda3\\lib\\site-packages (from trio~=0.17->selenium) (1.1.3)\n",
      "Requirement already satisfied: sortedcontainers in c:\\users\\admin\\anaconda3\\lib\\site-packages (from trio~=0.17->selenium) (2.4.0)\n",
      "Requirement already satisfied: attrs>=20.1.0 in c:\\users\\admin\\anaconda3\\lib\\site-packages (from trio~=0.17->selenium) (22.1.0)\n",
      "Requirement already satisfied: cffi>=1.14 in c:\\users\\admin\\anaconda3\\lib\\site-packages (from trio~=0.17->selenium) (1.15.1)\n",
      "Requirement already satisfied: sniffio>=1.3.0 in c:\\users\\admin\\anaconda3\\lib\\site-packages (from trio~=0.17->selenium) (1.3.0)\n",
      "Requirement already satisfied: wsproto>=0.14 in c:\\users\\admin\\anaconda3\\lib\\site-packages (from trio-websocket~=0.9->selenium) (1.2.0)\n",
      "Requirement already satisfied: PySocks!=1.5.7,<2.0,>=1.5.6 in c:\\users\\admin\\anaconda3\\lib\\site-packages (from urllib3[socks]<3,>=1.26->selenium) (1.7.1)\n",
      "Requirement already satisfied: pycparser in c:\\users\\admin\\anaconda3\\lib\\site-packages (from cffi>=1.14->trio~=0.17->selenium) (2.21)\n",
      "Requirement already satisfied: h11<1,>=0.9.0 in c:\\users\\admin\\anaconda3\\lib\\site-packages (from wsproto>=0.14->trio-websocket~=0.9->selenium) (0.14.0)\n"
     ]
    }
   ],
   "source": [
    "!pip install selenium"
   ]
  },
  {
   "cell_type": "code",
   "execution_count": 2,
   "id": "692e1291",
   "metadata": {},
   "outputs": [],
   "source": [
    "import os \n",
    "from selenium import webdriver\n",
    "from bs4 import BeautifulSoup\n",
    "import time\n",
    "import csv\n"
   ]
  },
  {
   "cell_type": "code",
   "execution_count": 6,
   "id": "07bf824c",
   "metadata": {},
   "outputs": [],
   "source": [
    "def create_csv_file(self):\n",
    "        rowHeaders=[\"Name\",\"Storage_details\",\"Screen_size\",\"Camera_details\",\"Battery_details\",\"Processor\",\n",
    "                    \"Warranty\",\"Price in Rupees\"]\n",
    "        self.file_csv = open('Flipkart_output.csv', 'w', newline='', encoding='utf-8')\n",
    "        self.mycsv = csv.DictWriter(self.file_csv, fieldnames=rowHeaders)\n",
    "        self.mycsv.writeheader()\n",
    "    \n",
    "    "
   ]
  },
  {
   "cell_type": "code",
   "execution_count": 7,
   "id": "772b711a",
   "metadata": {},
   "outputs": [],
   "source": [
    "def data_scrap(self):\n",
    "        first_page_mobiles = (self.soup.find_all('div',class_='_3O0U0u'))   \n",
    "        for i in first_page_mobiles:\n",
    "            Name = i.find('img',class_ ='_1Nyybr')['alt']\n",
    "            price = i.find('div',class_ ='_1vC4OE _2rQ-NK')\n",
    "            details = i.find_all(\"li\")\n",
    "            storage = details[0].text\n",
    "            screen_size = details[1].text\n",
    "            camera_details = details[2].text\n",
    "            battery_details =details[3].text\n",
    "            processor = details[4].text\n",
    "            try:\n",
    "                warranty_details = [j.text for j in details if j.text[:14] == \"Brand Warranty\"][0]\n",
    "            except:\n",
    "                warranty_details = \"No data available\"\n",
    "            price = price.text[1:]\n",
    "            self.mycsv.writerow({\"Name\":Name, \"Storage_details\":storage, \"Screen_size\":screen_size, \"Camera_details\":camera_details,\"Battery_details\":battery_details, \"Processor\":processor, \"Warranty\":warranty_details, \"Price in Rupees\":price})\n",
    "            \n",
    "    "
   ]
  },
  {
   "cell_type": "code",
   "execution_count": 5,
   "id": "1f3e8edc",
   "metadata": {},
   "outputs": [
    {
     "ename": "IndentationError",
     "evalue": "unindent does not match any outer indentation level (<tokenize>, line 8)",
     "output_type": "error",
     "traceback": [
      "\u001b[1;36m  File \u001b[1;32m<tokenize>:8\u001b[1;36m\u001b[0m\n\u001b[1;33m    def page_load(self):\u001b[0m\n\u001b[1;37m    ^\u001b[0m\n\u001b[1;31mIndentationError\u001b[0m\u001b[1;31m:\u001b[0m unindent does not match any outer indentation level\n"
     ]
    }
   ],
   "source": [
    "class Flipkart():\n",
    "     def __init__(self):\n",
    "        self.current_path= os.getcwd()\n",
    "        self.url= 'https://www.flipkart.com'\n",
    "        self.driver_path= os.path.join(os.getcwd(),'chromedriver')\n",
    "        self.driver= webdriver.Chrome(self.driver_path)\n",
    "        \n",
    "    "
   ]
  },
  {
   "cell_type": "code",
   "execution_count": 8,
   "id": "919cde87",
   "metadata": {},
   "outputs": [],
   "source": [
    "def page_load(self):\n",
    "        self.driver.get(self.url)\n",
    "        try:\n",
    "            login_pop = self.driver.find_element_by_class_name('_29YdH8')\n",
    "            login_pop.click()\n",
    "            print('pop-up closed')\n",
    "        except:\n",
    "            pass\n",
    "        search_field = self.driver.find_element_by_class_name('LM6RPg')\n",
    "        search_field.send_keys('smartphone'+ '\\n')\n",
    "        time.sleep(2)\n",
    "        page_html = self.driver.page_source\n",
    "        self.soup = BeautifulSoup(page_html,'html.parser')\n",
    "    \n",
    "    "
   ]
  },
  {
   "cell_type": "code",
   "execution_count": 9,
   "id": "d339e0b0",
   "metadata": {},
   "outputs": [
    {
     "ename": "NameError",
     "evalue": "name 'Flipkart' is not defined",
     "output_type": "error",
     "traceback": [
      "\u001b[1;31m---------------------------------------------------------------------------\u001b[0m",
      "\u001b[1;31mNameError\u001b[0m                                 Traceback (most recent call last)",
      "Cell \u001b[1;32mIn[9], line 7\u001b[0m\n\u001b[0;32m      3\u001b[0m         \u001b[38;5;28mself\u001b[39m\u001b[38;5;241m.\u001b[39mfile_csv\u001b[38;5;241m.\u001b[39mclose()\n\u001b[0;32m      5\u001b[0m \u001b[38;5;28;01mif\u001b[39;00m \u001b[38;5;18m__name__\u001b[39m\u001b[38;5;241m==\u001b[39m\u001b[38;5;124m\"\u001b[39m\u001b[38;5;124m__main__\u001b[39m\u001b[38;5;124m\"\u001b[39m:\n\u001b[1;32m----> 7\u001b[0m     Flipkart\u001b[38;5;241m=\u001b[39m\u001b[43mFlipkart\u001b[49m()\n\u001b[0;32m      8\u001b[0m     Flipkart\u001b[38;5;241m.\u001b[39mpage_load()\n\u001b[0;32m      9\u001b[0m     Flipkart\u001b[38;5;241m.\u001b[39mcreate_csv_file()\n",
      "\u001b[1;31mNameError\u001b[0m: name 'Flipkart' is not defined"
     ]
    }
   ],
   "source": [
    "def tearDown(self):\n",
    "        self.driver.quit()\n",
    "        self.file_csv.close()\n",
    "\n",
    "if __name__==\"__main__\":\n",
    "    \n",
    "    Flipkart=Flipkart()\n",
    "    Flipkart.page_load()\n",
    "    Flipkart.create_csv_file()\n",
    "    Flipkart.data_scrap()\n",
    "    Flipkart.tearDown()\n",
    "    print(\"Task completed\")"
   ]
  },
  {
   "cell_type": "code",
   "execution_count": null,
   "id": "5eac9f46",
   "metadata": {},
   "outputs": [],
   "source": []
  }
 ],
 "metadata": {
  "kernelspec": {
   "display_name": "Python 3 (ipykernel)",
   "language": "python",
   "name": "python3"
  },
  "language_info": {
   "codemirror_mode": {
    "name": "ipython",
    "version": 3
   },
   "file_extension": ".py",
   "mimetype": "text/x-python",
   "name": "python",
   "nbconvert_exporter": "python",
   "pygments_lexer": "ipython3",
   "version": "3.10.9"
  }
 },
 "nbformat": 4,
 "nbformat_minor": 5
}
